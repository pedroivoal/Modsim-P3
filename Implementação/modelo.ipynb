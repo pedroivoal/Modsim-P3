{
 "cells": [
  {
   "cell_type": "code",
   "execution_count": 66,
   "metadata": {},
   "outputs": [],
   "source": [
    "#Importa bibliotecas necessárias\n",
    "from scipy.integrate import odeint\n",
    "import numpy as np\n",
    "import matplotlib.pyplot as plt\n",
    "from math import *"
   ]
  },
  {
   "cell_type": "markdown",
   "metadata": {},
   "source": [
    "----\n",
    "## Parâmetros"
   ]
  },
  {
   "cell_type": "code",
   "execution_count": 67,
   "metadata": {},
   "outputs": [],
   "source": [
    "# Dimensões (m)\n",
    "c = 0.23                # livro (comprimento)\n",
    "l = 0.16                # livro (largura)\n",
    "h = 0.02                # livro (altura)\n",
    "\n",
    "# Áreas (m²)\n",
    "As = l*h                 # livro (area de contato contra o ar)\n",
    "\n",
    "# Volumes (m³)\n",
    "v = l*h*c               # livro\n",
    "\n",
    "# Densidades (kg/m³)\n",
    "rhol = 1500               # livro\n",
    "rhoa = 1\n",
    "\n",
    "# Massas (kg)\n",
    "m = rhol*v             # livro\n",
    "\n",
    "# Gravidade (m/s²)\n",
    "g = 9.81\n",
    "\n",
    "# Coeficiente de arrasto\n",
    "Cd = 1.05\n",
    "\n",
    "# Ângulo limite (°)\n",
    "angle_l = 14\n",
    "\n",
    "# μ cinético (coeficiente de atrito cinético)\n",
    "mic = tan(radians(angle_l))"
   ]
  },
  {
   "cell_type": "markdown",
   "metadata": {},
   "source": [
    "----\n",
    "## 1° Iteração"
   ]
  },
  {
   "cell_type": "code",
   "execution_count": 68,
   "metadata": {},
   "outputs": [],
   "source": [
    "# Modelo sem Arrasto\n",
    "def modelo1 (X, t, angle):\n",
    "    \n",
    "    rang = radians(angle)\n",
    "\n",
    "    x = X[0]\n",
    "    y = X[1]\n",
    "    vx = X[2]\n",
    "    vy = X[3]\n",
    "    \n",
    "    \n",
    "    Nx = g*cos(rang)*sin(rang)\n",
    "    Ny = g*cos(rang)**2\n",
    "    Fatx = mic*g*cos(rang)**2\n",
    "    Faty = mic*g*cos(rang)*sin(rang)\n",
    "    \n",
    "    dxdt = vx\n",
    "    dydt = vy\n",
    "    dvxdt = Nx - Fatx\n",
    "    dvydt = Ny + Faty - g\n",
    "    \n",
    "    if angle < angle_l:\n",
    "        return [0, 0, 0, 0]\n",
    "    elif y < 0:\n",
    "        # if dxdt > 0:\n",
    "        #     return [dxdt, 0, -mic*g, 0]\n",
    "        # else:\n",
    "        #     return [0, 0, 0, 0]\n",
    "        return [0, 0, 0, 0]\n",
    "    else:\n",
    "        return [dxdt, dydt, dvxdt, dvydt]"
   ]
  },
  {
   "cell_type": "code",
   "execution_count": 69,
   "metadata": {},
   "outputs": [
    {
     "data": {
      "image/png": "[encoded data removed]",
      "text/plain": [
       "<Figure size 432x288 with 1 Axes>"
      ]
     },
     "metadata": {
      "needs_background": "light"
     },
     "output_type": "display_data"
    },
    {
     "name": "stdout",
     "output_type": "stream",
     "text": [
      "\n"
     ]
    },
    {
     "data": {
      "image/png": "[encoded data removed]",
      "text/plain": [
       "<Figure size 432x288 with 1 Axes>"
      ]
     },
     "metadata": {
      "needs_background": "light"
     },
     "output_type": "display_data"
    },
    {
     "data": {
      "image/png": "[encoded data removed]",
      "text/plain": [
       "<Figure size 432x288 with 1 Axes>"
      ]
     },
     "metadata": {
      "needs_background": "light"
     },
     "output_type": "display_data"
    }
   ],
   "source": [
    "t_lista = np.arange(0, 4, 0.01)\n",
    "\n",
    "# Condições iniciais\n",
    "angle = 80\n",
    "x0 = [0, 0.78*sin(radians(angle)), 0, 0]\n",
    "\n",
    "# Resolução numérica\n",
    "x = odeint(modelo1, x0, t_lista, args = (angle,))\n",
    "listx = x[:,0]\n",
    "listy = x[:,1]\n",
    "\n",
    "# Plota gráfico somente para apresentação\n",
    "plt.plot(listx, listy)\n",
    "plt.axis('equal')\n",
    "plt.title('')\n",
    "plt.xlabel('distância (m)')\n",
    "plt.ylabel('altura (m)')\n",
    "plt.grid(True)\n",
    "plt.show()\n",
    "print()\n",
    "\n",
    "plt.plot(t_lista, listx)\n",
    "plt.title('')\n",
    "plt.xlabel('tempo (s)')\n",
    "plt.ylabel('distância (m)')\n",
    "plt.grid(True)\n",
    "plt.show()\n",
    "\n",
    "plt.plot(t_lista, listy)\n",
    "plt.title('')\n",
    "plt.xlabel('tempo (s)')\n",
    "plt.ylabel('altura (m)')\n",
    "plt.grid(True)\n",
    "plt.show()"
   ]
  },
  {
   "cell_type": "code",
   "execution_count": 70,
   "metadata": {},
   "outputs": [],
   "source": [
    "def modelo2 (X, t, angle):\n",
    "    \n",
    "    rang = radians(angle)\n",
    "\n",
    "    x = X[0]\n",
    "    y = X[1]\n",
    "    vx = X[2]\n",
    "    vy = X[3]\n",
    "    \n",
    "    \n",
    "    Nx = g*cos(rang)*sin(rang)\n",
    "    Ny = g*cos(rang)**2\n",
    "    Fatx = mic*g*cos(rang)**2\n",
    "    Faty = mic*g*cos(rang)*sin(rang)\n",
    "    # Farx = 0.5 * rhoa *\n",
    "    # Fary =\n",
    "    \n",
    "    dxdt = vx\n",
    "    dydt = vy\n",
    "    dvxdt = Nx - Fatx\n",
    "    dvydt = +Ny + Faty - g\n",
    "    \n",
    "    if angle < angle_l:\n",
    "        return [0, 0, 0, 0]\n",
    "    elif y < 0:\n",
    "        if dxdt > 0:\n",
    "            return [dxdt, 0, -mic*g, 0]\n",
    "        else:\n",
    "            return [0, 0, 0, 0]\n",
    "    else:\n",
    "        return [dxdt, dydt, dvxdt, dvydt]"
   ]
  }
 ],
 "metadata": {
  "interpreter": {
   "hash": "74ab7c6ffe6706754a8af46cc4d18eebe476c74ce21a19282f620e1b1e9919fe"
  },
  "kernelspec": {
   "display_name": "Python 3.8.8 64-bit ('base': conda)",
   "language": "python",
   "name": "python3"
  },
  "language_info": {
   "codemirror_mode": {
    "name": "ipython",
    "version": 3
   },
   "file_extension": ".py",
   "mimetype": "text/x-python",
   "name": "python",
   "nbconvert_exporter": "python",
   "pygments_lexer": "ipython3",
   "version": "3.8.8"
  },
  "orig_nbformat": 4
 },
 "nbformat": 4,
 "nbformat_minor": 2
}
