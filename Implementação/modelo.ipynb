{
 "cells": [
  {
   "cell_type": "code",
   "execution_count": 73,
   "metadata": {},
   "outputs": [],
   "source": [
    "#Importa bibliotecas necessárias\n",
    "from scipy.integrate import odeint\n",
    "import numpy as np\n",
    "import matplotlib.pyplot as plt\n",
    "from math import *"
   ]
  },
  {
   "cell_type": "markdown",
   "metadata": {},
   "source": [
    "----\n",
    "## Parâmetros"
   ]
  },
  {
   "cell_type": "code",
   "execution_count": 74,
   "metadata": {},
   "outputs": [],
   "source": [
    "# Dimensões (m)\n",
    "c = 0.23                # livro (comprimento)\n",
    "l = 0.16                # livro (largura)\n",
    "h = 0.02                # livro (altura)\n",
    "\n",
    "# Áreas (m²)\n",
    "As = l*h                 # livro (area de contato contra o ar)\n",
    "\n",
    "# Volumes (m³)\n",
    "va = l*h*c               # livro\n",
    "\n",
    "# Densidades (kg/m³)\n",
    "rhoa = 997               # livro\n",
    "\n",
    "# Massas (kg)\n",
    "ma = rhoa*va             # livro\n",
    "\n",
    "g = 9.81\n",
    "angle_i = 14"
   ]
  },
  {
   "cell_type": "markdown",
   "metadata": {},
   "source": [
    "----\n",
    "## 1° Iteração"
   ]
  },
  {
   "cell_type": "code",
   "execution_count": 75,
   "metadata": {},
   "outputs": [],
   "source": [
    "# \n",
    "def modelo1 (X, t, angle):\n",
    "    \n",
    "    rangle = radians(angle)\n",
    "\n",
    "    x = X[0]\n",
    "    y = X[1]\n",
    "    vx = X[2]\n",
    "    vy = X[3]\n",
    "    \n",
    "    dxdt = vx\n",
    "    dydt = vy\n",
    "    dvxdt = g*sin(rangle+1)*cos(rangle+1) - g*tan(rangle)*cos(rangle+1)**2\n",
    "    dvydt = -g*sin(rangle+1)**2 + g*tan(rangle)*cos(rangle+1)*sin(rangle+1)\n",
    "    \n",
    "    if angle < angle_i:\n",
    "        return [0, 0, 0, 0]\n",
    "    elif y < 0:\n",
    "        return [dxdt, 0, 0, 0]\n",
    "    else:\n",
    "        return [dxdt, dydt, dvxdt, dvydt]"
   ]
  },
  {
   "cell_type": "code",
   "execution_count": 76,
   "metadata": {},
   "outputs": [
    {
     "data": {
      "image/png": "[encoded data removed]",
      "text/plain": [
       "<Figure size 432x288 with 1 Axes>"
      ]
     },
     "metadata": {
      "needs_background": "light"
     },
     "output_type": "display_data"
    },
    {
     "data": {
      "image/png": "[encoded data removed]",
      "text/plain": [
       "<Figure size 432x288 with 1 Axes>"
      ]
     },
     "metadata": {
      "needs_background": "light"
     },
     "output_type": "display_data"
    },
    {
     "data": {
      "image/png": "[encoded data removed]",
      "text/plain": [
       "<Figure size 432x288 with 1 Axes>"
      ]
     },
     "metadata": {
      "needs_background": "light"
     },
     "output_type": "display_data"
    }
   ],
   "source": [
    "# if vx == 0:\n",
    "        #     return [0, 0, 0, 0]\n",
    "        # else:\n",
    "        #     return [dxdt, 0, dvxdtc, 0]\n",
    "\n",
    "t_lista = np.arange(0, 2, 0.01)\n",
    "\n",
    "# Condições iniciais\n",
    "angle = 89\n",
    "rangle = radians(angle)\n",
    "x0 = [0, 1.01*sin(rangle), 0, 0]\n",
    "\n",
    "# Resolução numérica\n",
    "x = odeint(modelo1, x0, t_lista, args = (angle,))\n",
    "listx = x[:,0]\n",
    "listy = x[:,1]\n",
    "\n",
    "# Variável que guarda gráfico\n",
    "# modelo1, ax = plt.subplots()\n",
    "\n",
    "# Plota gráfico somente para apresentação\n",
    "plt.plot(listx, listy)\n",
    "plt.axis('equal')\n",
    "plt.title('')\n",
    "plt.xlabel('distância (m)')\n",
    "plt.ylabel('altura (m)')\n",
    "plt.grid(True)\n",
    "plt.show()\n",
    "# Cria arquivo png com o gráfico no PC\n",
    "# modelo1.savefig('0.modelo1.png',  format = 'png', dpi = 1200)\n",
    "\n",
    "plt.plot(t_lista, listx)\n",
    "plt.title('')\n",
    "plt.xlabel('tempo (s)')\n",
    "plt.ylabel('distância (m)')\n",
    "plt.grid(True)\n",
    "plt.show()\n",
    "\n",
    "plt.plot(t_lista, listy)\n",
    "plt.title('')\n",
    "plt.xlabel('tempo (s)')\n",
    "plt.ylabel('altura (m)')\n",
    "plt.grid(True)\n",
    "plt.show()"
   ]
  },
  {
   "cell_type": "code",
   "execution_count": 77,
   "metadata": {},
   "outputs": [
    {
     "name": "stdout",
     "output_type": "stream",
     "text": [
      "-561.7577179564752\n",
      "561.9289260636249\n",
      "0.1712081071497521\n"
     ]
    }
   ],
   "source": [
    "print(g*cos(radians(angle)) - g*tan(radians(angle))*sin(radians(angle)))\n",
    "print(g*tan(radians(angle))*sin(radians(angle)))\n",
    "print(g*cos(radians(angle)))"
   ]
  }
 ],
 "metadata": {
  "interpreter": {
   "hash": "74ab7c6ffe6706754a8af46cc4d18eebe476c74ce21a19282f620e1b1e9919fe"
  },
  "kernelspec": {
   "display_name": "Python 3.8.8 64-bit ('base': conda)",
   "language": "python",
   "name": "python3"
  },
  "language_info": {
   "codemirror_mode": {
    "name": "ipython",
    "version": 3
   },
   "file_extension": ".py",
   "mimetype": "text/x-python",
   "name": "python",
   "nbconvert_exporter": "python",
   "pygments_lexer": "ipython3",
   "version": "3.8.8"
  },
  "orig_nbformat": 4
 },
 "nbformat": 4,
 "nbformat_minor": 2
}
